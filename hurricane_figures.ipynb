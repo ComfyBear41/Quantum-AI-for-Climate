{
 "cells": [
  {
   "cell_type": "markdown",
   "metadata": {},
   "source": [
    "# Import data"
   ]
  },
  {
   "cell_type": "code",
   "execution_count": 1,
   "metadata": {},
   "outputs": [
    {
     "data": {
      "text/html": [
       "<div>\n",
       "<style scoped>\n",
       "    .dataframe tbody tr th:only-of-type {\n",
       "        vertical-align: middle;\n",
       "    }\n",
       "\n",
       "    .dataframe tbody tr th {\n",
       "        vertical-align: top;\n",
       "    }\n",
       "\n",
       "    .dataframe thead th {\n",
       "        text-align: right;\n",
       "    }\n",
       "</style>\n",
       "<table border=\"1\" class=\"dataframe\">\n",
       "  <thead>\n",
       "    <tr style=\"text-align: right;\">\n",
       "      <th></th>\n",
       "      <th>Time</th>\n",
       "      <th>Longitude</th>\n",
       "      <th>Latitude</th>\n",
       "      <th>Velocity component u</th>\n",
       "      <th>Velocity component v</th>\n",
       "      <th>Geopotential</th>\n",
       "    </tr>\n",
       "  </thead>\n",
       "  <tbody>\n",
       "    <tr>\n",
       "      <th>1800</th>\n",
       "      <td>0.0</td>\n",
       "      <td>0.0</td>\n",
       "      <td>0.000000</td>\n",
       "      <td>-1.156552</td>\n",
       "      <td>0.424945</td>\n",
       "      <td>14506.583520</td>\n",
       "    </tr>\n",
       "    <tr>\n",
       "      <th>1770</th>\n",
       "      <td>0.0</td>\n",
       "      <td>0.0</td>\n",
       "      <td>0.016667</td>\n",
       "      <td>-0.824795</td>\n",
       "      <td>0.036197</td>\n",
       "      <td>14507.684626</td>\n",
       "    </tr>\n",
       "    <tr>\n",
       "      <th>1740</th>\n",
       "      <td>0.0</td>\n",
       "      <td>0.0</td>\n",
       "      <td>0.033333</td>\n",
       "      <td>-0.958053</td>\n",
       "      <td>-0.408673</td>\n",
       "      <td>14517.080724</td>\n",
       "    </tr>\n",
       "    <tr>\n",
       "      <th>1710</th>\n",
       "      <td>0.0</td>\n",
       "      <td>0.0</td>\n",
       "      <td>0.050000</td>\n",
       "      <td>-1.131566</td>\n",
       "      <td>-0.248520</td>\n",
       "      <td>14533.670709</td>\n",
       "    </tr>\n",
       "    <tr>\n",
       "      <th>1680</th>\n",
       "      <td>0.0</td>\n",
       "      <td>0.0</td>\n",
       "      <td>0.066667</td>\n",
       "      <td>-0.588818</td>\n",
       "      <td>0.034828</td>\n",
       "      <td>14539.690085</td>\n",
       "    </tr>\n",
       "    <tr>\n",
       "      <th>...</th>\n",
       "      <td>...</td>\n",
       "      <td>...</td>\n",
       "      <td>...</td>\n",
       "      <td>...</td>\n",
       "      <td>...</td>\n",
       "      <td>...</td>\n",
       "    </tr>\n",
       "    <tr>\n",
       "      <th>159359</th>\n",
       "      <td>1.0</td>\n",
       "      <td>1.0</td>\n",
       "      <td>0.933333</td>\n",
       "      <td>2.721812</td>\n",
       "      <td>11.960073</td>\n",
       "      <td>14993.198635</td>\n",
       "    </tr>\n",
       "    <tr>\n",
       "      <th>159329</th>\n",
       "      <td>1.0</td>\n",
       "      <td>1.0</td>\n",
       "      <td>0.950000</td>\n",
       "      <td>3.345071</td>\n",
       "      <td>13.250880</td>\n",
       "      <td>14964.349677</td>\n",
       "    </tr>\n",
       "    <tr>\n",
       "      <th>159299</th>\n",
       "      <td>1.0</td>\n",
       "      <td>1.0</td>\n",
       "      <td>0.966667</td>\n",
       "      <td>4.263996</td>\n",
       "      <td>14.024268</td>\n",
       "      <td>14942.841421</td>\n",
       "    </tr>\n",
       "    <tr>\n",
       "      <th>159269</th>\n",
       "      <td>1.0</td>\n",
       "      <td>1.0</td>\n",
       "      <td>0.983333</td>\n",
       "      <td>5.542441</td>\n",
       "      <td>13.880541</td>\n",
       "      <td>14926.838691</td>\n",
       "    </tr>\n",
       "    <tr>\n",
       "      <th>159239</th>\n",
       "      <td>1.0</td>\n",
       "      <td>1.0</td>\n",
       "      <td>1.000000</td>\n",
       "      <td>7.033265</td>\n",
       "      <td>14.014687</td>\n",
       "      <td>14889.474520</td>\n",
       "    </tr>\n",
       "  </tbody>\n",
       "</table>\n",
       "<p>161040 rows × 6 columns</p>\n",
       "</div>"
      ],
      "text/plain": [
       "        Time  Longitude  Latitude  Velocity component u  Velocity component v  \\\n",
       "1800     0.0        0.0  0.000000             -1.156552              0.424945   \n",
       "1770     0.0        0.0  0.016667             -0.824795              0.036197   \n",
       "1740     0.0        0.0  0.033333             -0.958053             -0.408673   \n",
       "1710     0.0        0.0  0.050000             -1.131566             -0.248520   \n",
       "1680     0.0        0.0  0.066667             -0.588818              0.034828   \n",
       "...      ...        ...       ...                   ...                   ...   \n",
       "159359   1.0        1.0  0.933333              2.721812             11.960073   \n",
       "159329   1.0        1.0  0.950000              3.345071             13.250880   \n",
       "159299   1.0        1.0  0.966667              4.263996             14.024268   \n",
       "159269   1.0        1.0  0.983333              5.542441             13.880541   \n",
       "159239   1.0        1.0  1.000000              7.033265             14.014687   \n",
       "\n",
       "        Geopotential  \n",
       "1800    14506.583520  \n",
       "1770    14507.684626  \n",
       "1740    14517.080724  \n",
       "1710    14533.670709  \n",
       "1680    14539.690085  \n",
       "...              ...  \n",
       "159359  14993.198635  \n",
       "159329  14964.349677  \n",
       "159299  14942.841421  \n",
       "159269  14926.838691  \n",
       "159239  14889.474520  \n",
       "\n",
       "[161040 rows x 6 columns]"
      ]
     },
     "execution_count": 1,
     "metadata": {},
     "output_type": "execute_result"
    }
   ],
   "source": [
    "import pandas as pd\n",
    "from pennylane import numpy as np\n",
    "data = pd.read_csv('dataFranklin.csv')\n",
    "data.drop(columns='Unnamed: 0', inplace = True)\n",
    "data.sort_values(by = ['Time', 'Longitude', 'Latitude'], ascending=[True, True, True], inplace=True)\n",
    "\n",
    "radius_earth = 6371000\n",
    "data['Longitude'] = radius_earth*data['Longitude']\n",
    "data['Latitude'] = radius_earth*data['Latitude']\n",
    "\n",
    "def minmaxscale(data, min_val, max_val):\n",
    "    min_dat = data.min()\n",
    "    max_dat = data.max()\n",
    "        \n",
    "    alpha = (min_val - max_val)/(min_dat-max_dat)\n",
    "    beta = min_val - alpha*min_dat\n",
    "    rescaled_data = alpha*data + beta\n",
    "    return rescaled_data, alpha, beta\n",
    "\n",
    "data['Time'], alpha_t, beta_t = minmaxscale(data['Time'], 0, 1)\n",
    "data['Longitude'], alpha_x, beta_x = minmaxscale(data['Longitude'], 0, 1)\n",
    "data['Latitude'], alpha_y, beta_y = minmaxscale(data['Latitude'], 0, 1)\n",
    "data"
   ]
  },
  {
   "cell_type": "code",
   "execution_count": 2,
   "metadata": {},
   "outputs": [
    {
     "data": {
      "text/plain": [
       "array([[ 0.00000000e+00,  0.00000000e+00,  0.00000000e+00,\n",
       "        -1.15655232e+00,  4.24944533e-01,  1.45065835e+04],\n",
       "       [ 0.00000000e+00,  0.00000000e+00,  1.66666667e-02,\n",
       "        -8.24795318e-01,  3.61968769e-02,  1.45076846e+04],\n",
       "       [ 0.00000000e+00,  0.00000000e+00,  3.33333333e-02,\n",
       "        -9.58053360e-01, -4.08672800e-01,  1.45170807e+04],\n",
       "       ...,\n",
       "       [ 1.00000000e+00,  1.00000000e+00,  9.66666667e-01,\n",
       "         4.26399619e+00,  1.40242684e+01,  1.49428414e+04],\n",
       "       [ 1.00000000e+00,  1.00000000e+00,  9.83333333e-01,\n",
       "         5.54244054e+00,  1.38805412e+01,  1.49268387e+04],\n",
       "       [ 1.00000000e+00,  1.00000000e+00,  1.00000000e+00,\n",
       "         7.03326489e+00,  1.40146866e+01,  1.48894745e+04]])"
      ]
     },
     "execution_count": 2,
     "metadata": {},
     "output_type": "execute_result"
    }
   ],
   "source": [
    "t_len = 88\n",
    "x_len = 61\n",
    "y_len = 30\n",
    "import torch\n",
    "torch_dev = 'cuda' if torch.cuda.is_available() else 'cpu'\n",
    "#torch_dev = 'cpu'\n",
    "np_dataset = data.to_numpy()\n",
    "np_dataset"
   ]
  },
  {
   "cell_type": "code",
   "execution_count": 3,
   "metadata": {},
   "outputs": [],
   "source": [
    "from sklearn.model_selection import train_test_split\n",
    "\n",
    "#Fit Transforming the X (time, latitude, longitude)\n",
    "X = np_dataset[:10*1830, :3]\n",
    "y = np_dataset[:10*1830, 3:]\n",
    "\n",
    "\n",
    "# Dividing in Train and Test\n",
    "X_train, X_test, y_train, y_test = train_test_split(X, y, test_size = 0.5, shuffle=False)\n",
    "\n",
    "y_train[:, 0], alpha_u, beta_u = minmaxscale(y_train[:, 0], -1, 1)\n",
    "y_train[:, 1], alpha_v, beta_v = minmaxscale(y_train[:, 1], -1, 1)\n",
    "y_train[:, 2], alpha_G, beta_G = minmaxscale(y_train[:, 2], -1, 1)\n",
    "\n",
    "y_test[:, 0] = alpha_u*y_test[:,0] + beta_u\n",
    "y_test[:, 1] = alpha_v*y_test[:,1] + beta_v\n",
    "y_test[:, 2] = alpha_G*y_test[:,2] + beta_G"
   ]
  },
  {
   "cell_type": "markdown",
   "metadata": {},
   "source": [
    "# Datasets"
   ]
  },
  {
   "cell_type": "code",
   "execution_count": 4,
   "metadata": {},
   "outputs": [],
   "source": [
    "from torch.utils.data import Dataset, DataLoader\n",
    "class HurricaneDataset(Dataset):\n",
    "    def __init__(self, X, y):\n",
    "        self.X = X\n",
    "        self.y = y\n",
    "    \n",
    "    def __len__(self):\n",
    "        return len(self.X)\n",
    "    \n",
    "    def __getitem__(self, idx):\n",
    "        return torch.tensor(self.X[idx], dtype = torch.float32, device = torch_dev), torch.tensor(self.y[idx], dtype = torch.float32, device = torch_dev)\n",
    "        #return list(self.X[idx]), self.y[idx]\n",
    "train_dataset = HurricaneDataset(X_train, y_train)\n",
    "test_dataset = HurricaneDataset(X_test, y_test)"
   ]
  },
  {
   "cell_type": "markdown",
   "metadata": {},
   "source": [
    "# Featrue map function "
   ]
  },
  {
   "cell_type": "code",
   "execution_count": 5,
   "metadata": {},
   "outputs": [],
   "source": [
    "import pennylane as qml\n",
    "def hardware_efficient_ansatz(params, wires):\n",
    "    n_qubits = len(wires)\n",
    "    num_layers = len(params) // n_qubits\n",
    "    \n",
    "    for i in range(num_layers):\n",
    "        for j in range(n_qubits):\n",
    "            qml.RX(params[i * n_qubits + j, 0], wires=wires[j])\n",
    "            qml.RY(params[i * n_qubits + j, 1], wires=wires[j])\n",
    "            qml.RZ(params[i * n_qubits + j, 2], wires=wires[j])\n",
    "        for j in range(n_qubits - 1):\n",
    "            qml.CNOT(wires=[j, j + 1])\n",
    "        qml.CNOT(wires=[n_qubits - 1, 0])"
   ]
  },
  {
   "cell_type": "code",
   "execution_count": 6,
   "metadata": {},
   "outputs": [],
   "source": [
    "import pennylane as qml\n",
    "from pennylane import numpy as np\n",
    "import torch\n",
    "import matplotlib.pyplot as plt\n",
    "\n",
    "def feature_map(inputs, \n",
    "                circ_wires,\n",
    "                input_weights,\n",
    "                weights, \n",
    "                rot_seq = [qml.RX]):\n",
    "    \"\"\" \n",
    "    **Args**:\n",
    "        * inputs: *Sequence*[float] features from the training dataset, should be in the form (phi, lambda, t)\n",
    "        * input_weights: *Sequence*[float] trainable parameters to linear transform the inputs (array should be twice as long as the inputs array)\n",
    "        * train_weights: *Sequence*[float] trainable parameters of entangling layers\n",
    "        * transform: *Single*[function] weather it a\n",
    "        * rotation_sequence: *Single or Sequence*[pennylane.ops.Operation]  if Single, use the same roation operation for each basic entangle embedding, if Sequence should be # of inputs -1 long.\n",
    "    \n",
    "    **Returns**:\n",
    "        * Trainableeature map quantum circuit\n",
    "    \"\"\"\n",
    "\n",
    "    n_qubits = len(circ_wires)\n",
    "\n",
    "    #################################### Quantum Circuit ####################################\n",
    "    # First layer of rotations (time)\n",
    "    k = 0\n",
    "    for wire in circ_wires:\n",
    "        qml.RY(input_weights[k]*inputs[0]+input_weights[k+1], wire) # time\n",
    "        k+=2\n",
    "    \n",
    "    # If len(rot_seq) == 1 we want to multiply this so it has the disired length\n",
    "    if len(rot_seq) == 1:\n",
    "        rot_seq = rot_seq*3\n",
    "\n",
    "    split_qubits = int(n_qubits/4)\n",
    "    kk = 0\n",
    "    # Layers of BasicEnganledLayers and rotations\n",
    "    for ii in range(1, 3):\n",
    "        '''for jj in range(3):\n",
    "            qml.BasicEntanglerLayers(weights=weights[kk:kk+split_qubits].unsqueeze(dim = 0), wires = circ_wires[split_qubits*jj:split_qubits*(jj+1)], rotation = rot_seq[ii-1])\n",
    "            kk += int(n_qubits/3)\n",
    "        for jj in range(split_qubits):\n",
    "            for ll in range(1, 3):\n",
    "                qml.CNOT([jj, jj+2*ll])'''\n",
    "        qml.BasicEntanglerLayers(weights=weights[kk:kk+n_qubits].unsqueeze(dim = 0), wires = circ_wires, rotation = rot_seq[ii-1])\n",
    "        '''qml.broadcast(qml.RX, parameters = weights[kk:kk+n_qubits], pattern = \"single\", wires = circ_wires)\n",
    "        kk += n_qubits\n",
    "        qml.broadcast(qml.RY, parameters = weights[kk:kk+n_qubits], pattern = \"single\", wires = circ_wires)\n",
    "        kk += n_qubits\n",
    "        qml.broadcast(qml.RZ, parameters = weights[kk:kk+n_qubits], pattern = \"single\", wires = circ_wires)\n",
    "        kk += n_qubits\n",
    "        qml.broadcast(qml.CNOT, pattern = \"ring\", wires = range(n_qubits))\n",
    "        qml.broadcast(qml.CNOT, pattern = \"double_odd\", wires = range(n_qubits))'''\n",
    "        for wire in circ_wires:\n",
    "            #qml.Hadamard(wire)\n",
    "            qml.RY(input_weights[k]*inputs[ii] + input_weights[k+1], wire)\n",
    "            k+=2\n",
    "    qml.BasicEntanglerLayers(weights=weights[kk:kk+n_qubits].unsqueeze(dim = 0), wires = circ_wires, rotation = rot_seq[-1])\n",
    "    '''qml.broadcast(qml.RX, parameters = weights[kk:kk+n_qubits], pattern = \"single\", wires = circ_wires)\n",
    "    kk += n_qubits\n",
    "    qml.broadcast(qml.RY, parameters = weights[kk:kk+n_qubits], pattern = \"single\", wires = circ_wires)\n",
    "    kk += n_qubits\n",
    "    qml.broadcast(qml.RZ, parameters = weights[kk:kk+n_qubits], pattern = \"single\", wires = circ_wires)\n",
    "    kk += n_qubits\n",
    "    qml.broadcast(qml.CNOT, pattern = \"ring\", wires = range(n_qubits))\n",
    "    qml.broadcast(qml.CNOT, pattern = \"double_odd\", wires = range(n_qubits))'''\n",
    "    for wire in circ_wires:\n",
    "        #qml.Hadamard(wire)\n",
    "        qml.RY(input_weights[k]*0.5 + input_weights[k+1], wire)\n",
    "        k+=2\n",
    "    #return qml.expval(qml.Z(0))"
   ]
  },
  {
   "cell_type": "code",
   "execution_count": 7,
   "metadata": {},
   "outputs": [],
   "source": [
    "feature_dev = qml.device('default.qubit', wires = 4)\n",
    "inp_params = torch.rand(2*4*4)\n",
    "weight_params = torch.rand(3*3*4)\n",
    "feature_qnode = qml.QNode(feature_map, feature_dev)\n",
    "\n",
    "#qml.draw_mpl(feature_qnode, range(4))(torch.tensor([0, 1, 2, 3]), range(4), inp_params, weight_params)"
   ]
  },
  {
   "cell_type": "markdown",
   "metadata": {},
   "source": [
    "# Create full circuit"
   ]
  },
  {
   "cell_type": "code",
   "execution_count": 8,
   "metadata": {},
   "outputs": [],
   "source": [
    "def full_circuit(qnode, \n",
    "                 inputs,\n",
    "                FM_input_weights,\n",
    "                FM_train_weights,\n",
    "                NN_weights,\n",
    "                n_layers,\n",
    "                rot_FM_seq = [qml.RX],\n",
    "                rot_Train_seq = [qml.RX]):\n",
    "\n",
    "    n_qubits = len(qnode.device.wires)\n",
    "\n",
    "    # Apply featuremap\n",
    "    feature_map(inputs, \n",
    "                qnode.device.wires,\n",
    "                FM_input_weights,\n",
    "                FM_train_weights, \n",
    "                rot_seq = rot_FM_seq)\n",
    "\n",
    "    if len(rot_Train_seq) == 1:\n",
    "        rot_Train_seq = rot_Train_seq*n_layers\n",
    "    '''\n",
    "    # NN layers\n",
    "    kk = 0\n",
    "    split_qubits = int(n_qubits/4)\n",
    "    for ii in range(n_layers):\n",
    "        for jj in range(4):\n",
    "            qml.BasicEntanglerLayers(weights=NN_weights[kk:kk+split_qubits].unsqueeze(dim = 0), \n",
    "                                     wires = qnode.device.wires[split_qubits*jj:split_qubits*(jj+1)], \n",
    "                                     rotation = rot_Train_seq[ii-1])\n",
    "            kk += split_qubits\n",
    "        for jj in range(split_qubits):\n",
    "            for ll in range(1, 4):\n",
    "                qml.CNOT([jj, jj+split_qubits*ll])\n",
    "    '''\n",
    "\n",
    "    # Create NN layers\n",
    "    for ii in range(n_layers):\n",
    "        qml.BasicEntanglerLayers(weights=NN_weights[ii*n_qubits:(ii+1)*n_qubits].unsqueeze(0),\n",
    "                                 wires = qnode.device.wires,\n",
    "                                 rotation = rot_Train_seq[ii])\n",
    "    \n",
    "    '''kk = 0\n",
    "    for ii in range(n_layers):\n",
    "        qml.broadcast(qml.RX, parameters = NN_weights[ii*n_qubits:n_qubits*(ii+1)], pattern = \"single\", wires = range(n_qubits))\n",
    "        qml.broadcast(qml.CNOT, pattern = \"double\", wires = range(n_qubits))\n",
    "        qml.broadcast(qml.CNOT, pattern = \"double_odd\", wires = range(n_qubits))\n",
    "        kk += 1'''\n",
    "    '''kk = 0\n",
    "    for ii in range(n_layers):\n",
    "        qml.broadcast(qml.RX, parameters = NN_weights[kk:kk+n_qubits], pattern = \"single\", wires = qnode.device.wires)\n",
    "        kk += n_qubits\n",
    "        qml.broadcast(qml.RY, parameters = NN_weights[kk:kk+n_qubits], pattern = \"single\", wires = qnode.device.wires)\n",
    "        kk += n_qubits\n",
    "        qml.broadcast(qml.RZ, parameters = NN_weights[kk:kk+n_qubits], pattern = \"single\", wires = qnode.device.wires)\n",
    "        kk += n_qubits\n",
    "        qml.broadcast(qml.CNOT, pattern = \"ring\", wires = range(n_qubits))\n",
    "        qml.broadcast(qml.CNOT, pattern = \"double_odd\", wires = range(n_qubits))'''\n",
    "\n",
    "    ####################################### Cost Operators ##########################################\n",
    "    CostOperator = qml.Z(0)\n",
    "    for ii in range(1, n_qubits):\n",
    "        CostOperator = CostOperator@qml.Z(ii)\n",
    "\n",
    "    return qml.expval(CostOperator)"
   ]
  },
  {
   "cell_type": "code",
   "execution_count": 9,
   "metadata": {},
   "outputs": [
    {
     "data": {
      "text/plain": [
       "(<Figure size 1300x500 with 1 Axes>, <Axes: >)"
      ]
     },
     "execution_count": 9,
     "metadata": {},
     "output_type": "execute_result"
    },
    {
     "data": {
      "image/png": "[encoded data removed]",
      "text/plain": [
       "<Figure size 1300x500 with 1 Axes>"
      ]
     },
     "metadata": {},
     "output_type": "display_data"
    }
   ],
   "source": [
    "n_qubits = 4\n",
    "n_layers = 3\n",
    "\n",
    "full_dev = qml.device('default.qubit', wires = 4)\n",
    "inp_params = torch.rand(2*4*n_qubits)\n",
    "weight_params = torch.rand(3*n_qubits)\n",
    "nn_params = torch.rand(n_layers*n_qubits)\n",
    "\n",
    "full_qnode = qml.QNode(full_circuit, feature_dev)\n",
    "\n",
    "qml.draw_mpl(full_circuit, range(4))(full_qnode, torch.tensor([0, 1, 2, 3]), inp_params, weight_params, nn_params, n_layers)"
   ]
  },
  {
   "cell_type": "code",
   "execution_count": null,
   "metadata": {},
   "outputs": [],
   "source": []
  },
  {
   "cell_type": "markdown",
   "metadata": {},
   "source": [
    "# PDE residual"
   ]
  },
  {
   "cell_type": "code",
   "execution_count": 10,
   "metadata": {},
   "outputs": [],
   "source": [
    "def get_predicts(qnodes, X_batch, FM_input_weights, \n",
    "                FM_train_weights, NN_train_weights, TL_train_weights,\n",
    "                n_layers, FMrot_seq, NNrot_seq):\n",
    "    predictions = []\n",
    "    for ii in range(4):\n",
    "        res = TL_train_weights[ii][0]*qnodes[ii](qnodes[ii], X_batch, FM_input_weights[ii], \n",
    "                                              FM_train_weights[ii], NN_train_weights[ii], \n",
    "                                              n_layers, FMrot_seq, NNrot_seq) + TL_train_weights[ii][1]\n",
    "        predictions.append(res)\n",
    "    return predictions"
   ]
  },
  {
   "cell_type": "code",
   "execution_count": 11,
   "metadata": {},
   "outputs": [],
   "source": [
    "phi0 = 11\n",
    "phi0_rad = np.pi*phi0/180\n",
    "\n",
    "Omega = 7.2921e-5\n",
    "f0 = torch.tensor(2*Omega*np.sin(phi0_rad), dtype = torch.float32).to(torch_dev)\n",
    "beta = torch.tensor(2*Omega*np.cos(phi0_rad)/radius_earth, dtype = torch.float32).to(torch_dev)\n",
    "\n",
    "def pde_loss(qnodes, X_batch, FM_input_weights, FM_train_weights, NN_train_weights, TL_train_weights, n_layers, FMrot_seq, NNrot_seq):\n",
    "        '''\n",
    "        returns the burgers equation left-hand side residual by using the parameter-shift rule\n",
    "        '''\n",
    "        # Num qubitsF\n",
    "        n_qubits = len(qnodes[0].device.wires)\n",
    "        \n",
    "        # U and V components of wind speed val\n",
    "        u, v, w, _ = get_predicts(qnodes, X_batch, FM_input_weights, \n",
    "                FM_train_weights, NN_train_weights, TL_train_weights,\n",
    "                n_layers, FMrot_seq, NNrot_seq)\n",
    "\n",
    "        # partials of t\n",
    "        par_t_u = 0\n",
    "        par_t_v = 0\n",
    "        for ii in range(n_qubits):\n",
    "                # Zeros vec\n",
    "                zeros_vec = torch.zeros(FM_input_weights.shape, dtype = torch.float32, device = torch_dev)\n",
    "                zeros_vec[:, 2*ii+1] = torch.pi/2       #element to modify\n",
    "\n",
    "                # Plus and minus shifts\n",
    "                plus_train_FM = FM_input_weights+zeros_vec\n",
    "                minus_train_FM = FM_input_weights-zeros_vec\n",
    "\n",
    "                # calculate\n",
    "                pos_term_u, pos_term_v, _, _ = get_predicts(qnodes, X_batch, plus_train_FM, \n",
    "                                                        FM_train_weights, NN_train_weights, TL_train_weights,\n",
    "                                                        n_layers, FMrot_seq, NNrot_seq)\n",
    "                neg_term_u, neg_term_v, _, _ = get_predicts(qnodes, X_batch, minus_train_FM, \n",
    "                                                        FM_train_weights, NN_train_weights, TL_train_weights,\n",
    "                                                        n_layers, FMrot_seq, NNrot_seq) \n",
    "\n",
    "                # Partial accumulations\n",
    "                par_t_u += (FM_input_weights[0][2*ii]/2)*(pos_term_u - neg_term_u)\n",
    "                par_t_v += (FM_input_weights[1][2*ii]/2)*(pos_term_v - neg_term_v)\n",
    "\n",
    "        # partials of x \n",
    "        par_x_u = 0\n",
    "        par_x_v = 0\n",
    "        par_x_G = 0\n",
    "        for ii in range(n_qubits):\n",
    "                # Zeros vec\n",
    "                zeros_vec = torch.zeros(FM_input_weights.shape, dtype = torch.float32, device = torch_dev)\n",
    "                zeros_vec[:, 2*n_qubits + 2*ii+1] = torch.pi/2       #element to modify\n",
    "\n",
    "                # Plus and minus shifts\n",
    "                plus_train_FM = FM_input_weights+zeros_vec\n",
    "                minus_train_FM = FM_input_weights-zeros_vec\n",
    "\n",
    "                # calculate\n",
    "                pos_term_u, pos_term_v, _, pos_term_G = get_predicts(qnodes, X_batch, plus_train_FM, \n",
    "                                                        FM_train_weights, NN_train_weights, TL_train_weights,\n",
    "                                                        n_layers, FMrot_seq, NNrot_seq)\n",
    "                neg_term_u, neg_term_v, _, neg_term_G = get_predicts(qnodes, X_batch, minus_train_FM, \n",
    "                                                        FM_train_weights, NN_train_weights, TL_train_weights,\n",
    "                                                        n_layers, FMrot_seq, NNrot_seq) \n",
    "\n",
    "                par_x_u += (FM_input_weights[0][2*n_qubits + 2*ii]/2)*(pos_term_u - neg_term_u)\n",
    "                par_x_v += (FM_input_weights[1][2*n_qubits + 2*ii]/2)*(pos_term_v - neg_term_v)\n",
    "                par_x_G += (FM_input_weights[3][2*n_qubits + 2*ii]/2)*(pos_term_G - neg_term_G)\n",
    "\n",
    "        # partials of y \n",
    "        par_y_u = 0\n",
    "        par_y_v = 0\n",
    "        par_y_G = 0\n",
    "        for ii in range(n_qubits):\n",
    "                # Zeros vec\n",
    "                zeros_vec = torch.zeros(FM_input_weights.shape, dtype = torch.float32, device = torch_dev)\n",
    "                zeros_vec[:, 4*n_qubits + 2*ii+1] = torch.pi/2       #element to modify\n",
    "\n",
    "                # Plus and minus shifts\n",
    "                plus_train_FM = FM_input_weights+zeros_vec\n",
    "                minus_train_FM = FM_input_weights-zeros_vec\n",
    "\n",
    "                # calculate\n",
    "                pos_term_u, pos_term_v, _, pos_term_G = get_predicts(qnodes, X_batch, plus_train_FM, \n",
    "                                                        FM_train_weights, NN_train_weights, TL_train_weights,\n",
    "                                                        n_layers, FMrot_seq, NNrot_seq)\n",
    "                neg_term_u, neg_term_v, _, neg_term_G = get_predicts(qnodes, X_batch, minus_train_FM, \n",
    "                                                        FM_train_weights, NN_train_weights, TL_train_weights,\n",
    "                                                        n_layers, FMrot_seq, NNrot_seq) \n",
    "                \n",
    "                par_y_u += (FM_input_weights[0][4*n_qubits + 2*ii]/2)*(pos_term_u - neg_term_u)\n",
    "                par_y_v += (FM_input_weights[1][4*n_qubits + 2*ii]/2)*(pos_term_v - neg_term_v)\n",
    "                par_y_G += (FM_input_weights[3][4*n_qubits + 2*ii]/2)*(pos_term_G - neg_term_G)\n",
    "\n",
    "        # Partial of p\n",
    "        par_p_u = 0\n",
    "        par_p_v = 0\n",
    "        par_p_w = 0\n",
    "\n",
    "        for ii in range(n_qubits):\n",
    "                # Zeros vec\n",
    "                zeros_vec = torch.zeros(FM_input_weights.shape, dtype = torch.float32, device = torch_dev)\n",
    "                zeros_vec[:, 6*n_qubits + 2*ii+1] = torch.pi/2       #element to modify\n",
    "\n",
    "                # Plus and minus shifts\n",
    "                plus_train_FM = FM_input_weights+zeros_vec\n",
    "                minus_train_FM = FM_input_weights-zeros_vec\n",
    "\n",
    "                # calculate\n",
    "                pos_term_u, pos_term_v, pos_term_w, _ = get_predicts(qnodes, X_batch, plus_train_FM, \n",
    "                                                        FM_train_weights, NN_train_weights, TL_train_weights,\n",
    "                                                        n_layers, FMrot_seq, NNrot_seq)\n",
    "                neg_term_u, neg_term_v, neg_term_w, _= get_predicts(qnodes, X_batch, minus_train_FM, \n",
    "                                                        FM_train_weights, NN_train_weights, TL_train_weights,\n",
    "                                                        n_layers, FMrot_seq, NNrot_seq) \n",
    "                \n",
    "                par_p_u += (FM_input_weights[0][6*n_qubits + 2*ii]/2)*(pos_term_u - neg_term_u)\n",
    "                par_p_v += (FM_input_weights[1][6*n_qubits + 2*ii]/2)*(pos_term_v - neg_term_v)\n",
    "                par_p_w += (FM_input_weights[2][6*n_qubits + 2*ii]/2)*(pos_term_w - neg_term_w)\n",
    "\n",
    "        mse1 = torch.abs((par_t_u*alpha_t + \n",
    "                                    ((u - beta_u)/alpha_u)*par_x_u + \n",
    "                                    ((v - beta_v)/alpha_v)*par_y_u + \n",
    "                                    w*par_p_u)/alpha_u - \n",
    "                                    (f0 + beta*((X_batch[2]-beta_y)/alpha_y))*((v-beta_v)/alpha_v) + \n",
    "                                    par_x_G*alpha_x/alpha_G)**2\n",
    "        mse2 = torch.abs((par_t_v*alpha_t + \n",
    "                                    ((u - beta_u)/alpha_u)*par_x_v + \n",
    "                                    ((v - beta_v)/alpha_v)*par_y_v + \n",
    "                                    w*par_p_v)/alpha_v +\n",
    "                                    (f0 + beta*((X_batch[2]-beta_y)/alpha_y))*((u-beta_u)/alpha_u)+ \n",
    "                                    par_y_G*alpha_y/alpha_G)**2\n",
    "        mse3 = torch.abs(par_x_u*alpha_x/alpha_u + par_y_v*alpha_y/alpha_v + par_p_w)**2\n",
    "        \n",
    "        \n",
    "        return torch.mean(mse1 + mse2 + mse3)"
   ]
  },
  {
   "cell_type": "code",
   "execution_count": 12,
   "metadata": {},
   "outputs": [],
   "source": [
    "from tqdm.auto import tqdm\n",
    "import time\n",
    "\n",
    "def cost_fn(qnodes, X_batch, y_batch, n_layers, weights, gamma, FMrot_seq, NNrot_seq):\n",
    "    n_qubits = len(qnodes[0].device.wires)\n",
    "\n",
    "    # Indx lengths\n",
    "    idx0 = 8*n_qubits\n",
    "    idx1 = 3*n_qubits\n",
    "    idx2 = n_layers*n_qubits\n",
    "    idx3 = 2\n",
    "    \n",
    "    # Weights split u\n",
    "    FM_input_weights = weights[:4*idx0].reshape(4, idx0)\n",
    "    FM_train_weights = weights[4*idx0:4*(idx0 + idx1)].reshape(4, idx1)\n",
    "    NN_train_weights = weights[4*(idx0 + idx1):4*(idx0 + idx1 + idx2)].reshape(4, idx2)\n",
    "    TL_train_weights = weights[4*(idx0 + idx1 + idx2):4*(idx0 + idx1 + idx2 + idx3)].reshape(4, idx3)\n",
    "\n",
    "    X_batch = torch.t(X_batch)\n",
    "    y_batch = torch.t(y_batch)\n",
    "    #X_batch = list(map(list, zip(*X_batch)))\n",
    "    #y_batch = list(map(list, zip(*y_batch)))\n",
    "    \n",
    "    if gamma != 1:\n",
    "        predict_u, predict_v, _, predict_G = get_predicts(qnodes, X_batch, FM_input_weights, \n",
    "                    FM_train_weights, NN_train_weights, TL_train_weights,\n",
    "                    n_layers, FMrot_seq, NNrot_seq)\n",
    "        loss_u = (predict_u - y_batch[0])**2\n",
    "        loss_v = (predict_v - y_batch[1])**2\n",
    "        loss_G = (predict_G - y_batch[2])**2\n",
    "        static_loss = torch.mean(torch.sqrt(y_batch[0]**2 + y_batch[1]**2)*(loss_u + loss_v + loss_G))\n",
    "    else:\n",
    "        static_loss = 0\n",
    "\n",
    "    if gamma != 0:\n",
    "        physics_loss = pde_loss(qnodes, X_batch, FM_input_weights, FM_train_weights, NN_train_weights, TL_train_weights, n_layers,  FMrot_seq, NNrot_seq)\n",
    "    else:\n",
    "        physics_loss = 0\n",
    "    cost =  (1-gamma)*static_loss +  gamma*physics_loss\n",
    "\n",
    "    return cost"
   ]
  },
  {
   "cell_type": "code",
   "execution_count": 13,
   "metadata": {},
   "outputs": [],
   "source": [
    "BATCH_SIZE = 61*30*5\n",
    "train_dataloader = DataLoader(train_dataset, BATCH_SIZE, shuffle = False)\n",
    "test_dataloader = DataLoader(test_dataset, BATCH_SIZE, shuffle = False)"
   ]
  },
  {
   "cell_type": "markdown",
   "metadata": {},
   "source": [
    "# Draw Figures"
   ]
  },
  {
   "cell_type": "code",
   "execution_count": 14,
   "metadata": {},
   "outputs": [
    {
     "name": "stderr",
     "output_type": "stream",
     "text": [
      "/tmp/ipykernel_92703/782494101.py:1: FutureWarning: You are using `torch.load` with `weights_only=False` (the current default value), which uses the default pickle module implicitly. It is possible to construct malicious pickle data which will execute arbitrary code during unpickling (See https://github.com/pytorch/pytorch/blob/main/SECURITY.md#untrusted-models for more details). In a future release, the default value for `weights_only` will be flipped to `True`. This limits the functions that could be executed during unpickling. Arbitrary objects will no longer be allowed to be loaded via this mode unless they are explicitly allowlisted by the user via `torch.serialization.add_safe_globals`. We recommend you start setting `weights_only=True` for any use case where you don't have full control of the loaded file. Please open an issue on GitHub for any issues related to this experimental feature.\n",
      "  new_params = torch.load('best_params_mix2.pth',map_location=torch.device('cpu')).to(torch_dev)\n"
     ]
    },
    {
     "data": {
      "text/plain": [
       "torch.Size([248])"
      ]
     },
     "execution_count": 14,
     "metadata": {},
     "output_type": "execute_result"
    }
   ],
   "source": [
    "new_params = torch.load('best_params_mix2.pth',map_location=torch.device('cpu')).to(torch_dev)\n",
    "new_params.shape"
   ]
  },
  {
   "cell_type": "code",
   "execution_count": 36,
   "metadata": {},
   "outputs": [
    {
     "name": "stderr",
     "output_type": "stream",
     "text": [
      "/tmp/ipykernel_92703/1416149675.py:4: FutureWarning: You are using `torch.load` with `weights_only=False` (the current default value), which uses the default pickle module implicitly. It is possible to construct malicious pickle data which will execute arbitrary code during unpickling (See https://github.com/pytorch/pytorch/blob/main/SECURITY.md#untrusted-models for more details). In a future release, the default value for `weights_only` will be flipped to `True`. This limits the functions that could be executed during unpickling. Arbitrary objects will no longer be allowed to be loaded via this mode unless they are explicitly allowlisted by the user via `torch.serialization.add_safe_globals`. We recommend you start setting `weights_only=True` for any use case where you don't have full control of the loaded file. Please open an issue on GitHub for any issues related to this experimental feature.\n",
      "  train_cost_reg = torch.load('train_cost_mix2.pth',map_location=torch.device('cpu'))\n",
      "/tmp/ipykernel_92703/1416149675.py:5: FutureWarning: You are using `torch.load` with `weights_only=False` (the current default value), which uses the default pickle module implicitly. It is possible to construct malicious pickle data which will execute arbitrary code during unpickling (See https://github.com/pytorch/pytorch/blob/main/SECURITY.md#untrusted-models for more details). In a future release, the default value for `weights_only` will be flipped to `True`. This limits the functions that could be executed during unpickling. Arbitrary objects will no longer be allowed to be loaded via this mode unless they are explicitly allowlisted by the user via `torch.serialization.add_safe_globals`. We recommend you start setting `weights_only=True` for any use case where you don't have full control of the loaded file. Please open an issue on GitHub for any issues related to this experimental feature.\n",
      "  test_cost_reg = torch.load('test_cost_mix2.pth',map_location=torch.device('cpu'))\n"
     ]
    },
    {
     "data": {
      "image/png": "[encoded data removed]",
      "text/plain": [
       "<Figure size 1000x618.034 with 1 Axes>"
      ]
     },
     "metadata": {},
     "output_type": "display_data"
    }
   ],
   "source": [
    "import torch\n",
    "import matplotlib.pyplot as plt\n",
    "\n",
    "train_cost_reg = torch.load('train_cost_mix2.pth',map_location=torch.device('cpu'))\n",
    "test_cost_reg = torch.load('test_cost_mix2.pth',map_location=torch.device('cpu'))\n",
    "\n",
    "golden_ratio = 1.618033\n",
    "x_size = 10\n",
    "y_size = 10/golden_ratio\n",
    "plt.figure(figsize=(x_size, y_size))\n",
    "\n",
    "plt.plot(train_cost_reg, 'k', label = 'Train Loss', linewidth = 3)\n",
    "plt.plot(test_cost_reg, 'b--', label = 'Test Loss', linewidth = 3)\n",
    "\n",
    "plt.yscale('log')\n",
    "\n",
    "plt.tick_params(axis='x', direction='in', length=6, which='major')\n",
    "plt.tick_params(axis='x', direction='in', length=3, which='minor')\n",
    "plt.tick_params(axis='y', direction='in', length=6, which='major')\n",
    "plt.tick_params(axis='y', direction='in', length=3, which='minor')\n",
    "\n",
    "# Ensure ticks align correctly with the log scale\n",
    "# This can help adjust the tick placement if needed\n",
    "plt.gca().xaxis.set_major_formatter(plt.ScalarFormatter())\n",
    "plt.gca().yaxis.set_major_formatter(plt.ScalarFormatter())\n",
    "\n",
    "\n",
    "# COMENTA ESTO PARA VER LOS RANGOS (DESCOMENTA PARA HACER LA IMAGEN BONITA EN INKSCAPE)\n",
    "#plt.xticks(ticks=plt.xticks()[0], labels=['']*len(plt.xticks()[0]))\n",
    "#plt.yticks(ticks=plt.yticks()[0], labels=['']*len(plt.yticks()[0]))\n",
    "\n",
    "# COMENTA ESTO PARA VER EL AUTOAJUSTE (DESCOMENTA Y AGREGA LIMITES PA QUE SE VEA BONITO)\n",
    "#plt.ylim(0.02, 2)\n",
    "#plt.xlim(-2, 52)\n",
    "\n",
    "plt.legend()\n",
    "\n",
    "plt.subplots_adjust(left=0, right=1, top=1, bottom=0)\n",
    "\n",
    "plt.savefig('Loss_0_05_physics.svg')"
   ]
  },
  {
   "cell_type": "code",
   "execution_count": 16,
   "metadata": {},
   "outputs": [],
   "source": [
    "# Create qnode\n",
    "device = qml.device('default.qubit.torch', \n",
    "                    wires = n_qubits,\n",
    "                    torch_device = torch_dev)\n",
    "qnode_u = qml.QNode(full_circuit, device = device, interface = 'torch', diff_method = 'best')\n",
    "qnode_v = qml.QNode(full_circuit, device = device, interface = 'torch', diff_method = 'best')\n",
    "qnode_w = qml.QNode(full_circuit, device = device, interface = 'torch', diff_method = 'best')\n",
    "qnode_G = qml.QNode(full_circuit, device = device, interface = 'torch', diff_method = 'best')\n",
    "\n",
    "qnodes = [qnode_u, qnode_v, qnode_w, qnode_G]"
   ]
  },
  {
   "cell_type": "code",
   "execution_count": 17,
   "metadata": {},
   "outputs": [],
   "source": [
    "# Create quantum circuit qnode and parameters\n",
    "n_layers = 4\n",
    "n_qubits = 4\n",
    "\n",
    "ii = 0\n",
    "for X_batch, y_batch in test_dataloader:\n",
    "    if ii == 0:\n",
    "        break\n",
    "    ii += 1\n",
    "\n",
    "X_batch = torch.t(X_batch)\n",
    "y_batch = torch.t(y_batch)\n",
    "\n",
    "# Indx lengths\n",
    "idx0 = 8*n_qubits\n",
    "idx1 = 3*n_qubits\n",
    "idx2 = n_layers*n_qubits\n",
    "idx3 = 2\n",
    "\n",
    "# Weights split u\n",
    "FM_input_weights = new_params[:4*idx0].reshape(4, idx0)\n",
    "FM_train_weights = new_params[4*idx0:4*(idx0 + idx1)].reshape(4, idx1)\n",
    "NN_train_weights = new_params[4*(idx0 + idx1):4*(idx0 + idx1 + idx2)].reshape(4, idx2)\n",
    "TL_train_weights = new_params[4*(idx0 + idx1 + idx2):4*(idx0 + idx1 + idx2 + idx3)].reshape(4, idx3)\n",
    "\n",
    "with torch.no_grad():\n",
    "    predict_u, predict_v, _, predict_G =  get_predicts(qnodes, X_batch[:, 2*1830:3*1830], FM_input_weights, \n",
    "                    FM_train_weights, NN_train_weights, TL_train_weights,\n",
    "                    n_layers, [qml.RX], [qml.RX])"
   ]
  },
  {
   "cell_type": "code",
   "execution_count": 18,
   "metadata": {},
   "outputs": [
    {
     "data": {
      "image/png": "[encoded data removed]",
      "text/plain": [
       "<Figure size 600x600 with 1 Axes>"
      ]
     },
     "metadata": {},
     "output_type": "display_data"
    }
   ],
   "source": [
    "wind_u_test = torch.t(predict_u.reshape(y_len, x_len))\n",
    "\n",
    "fig, ax = plt.subplots(figsize = (6, 6))\n",
    "ax.pcolor(wind_u_test.cpu().detach().numpy(), vmin = -1, vmax = 1)\n",
    "ax.set_xticks([])\n",
    "ax.set_yticks([])\n",
    "\n",
    "plt.subplots_adjust(left=0, right=1, top=1, bottom=0)\n",
    "\n",
    "plt.savefig('Gamma_0_05_Physics_wind_u_predict.png')"
   ]
  },
  {
   "cell_type": "code",
   "execution_count": 19,
   "metadata": {},
   "outputs": [
    {
     "data": {
      "image/png": "[encoded data removed]",
      "text/plain": [
       "<Figure size 600x600 with 1 Axes>"
      ]
     },
     "metadata": {},
     "output_type": "display_data"
    }
   ],
   "source": [
    "wind_u_test = torch.t(predict_v.reshape(y_len, x_len))\n",
    "\n",
    "fig, ax = plt.subplots(figsize = (6, 6))\n",
    "ax.pcolor(wind_u_test.cpu().detach().numpy(), vmin = -1, vmax = 1)\n",
    "ax.set_xticks([])\n",
    "ax.set_yticks([])\n",
    "\n",
    "plt.subplots_adjust(left=0, right=1, top=1, bottom=0)\n",
    "\n",
    "plt.savefig('Gamma_0_05_Physics_wind_v_predict.png')"
   ]
  },
  {
   "cell_type": "code",
   "execution_count": 20,
   "metadata": {},
   "outputs": [
    {
     "data": {
      "image/png": "[encoded data removed]",
      "text/plain": [
       "<Figure size 600x600 with 1 Axes>"
      ]
     },
     "metadata": {},
     "output_type": "display_data"
    }
   ],
   "source": [
    "wind_u_test = torch.t(predict_G.reshape(y_len, x_len))\n",
    "\n",
    "fig, ax = plt.subplots(figsize = (6, 6))\n",
    "ax.pcolor(wind_u_test.cpu().detach().numpy(), vmin = -1, vmax = 1)\n",
    "ax.set_xticks([])\n",
    "ax.set_yticks([])\n",
    "\n",
    "plt.subplots_adjust(left=0, right=1, top=1, bottom=0)\n",
    "\n",
    "plt.savefig('Gamma_0_05_Physics_wind_G_predict.png')"
   ]
  },
  {
   "cell_type": "markdown",
   "metadata": {},
   "source": [
    "## Absolute errors figures"
   ]
  },
  {
   "cell_type": "code",
   "execution_count": 21,
   "metadata": {},
   "outputs": [],
   "source": [
    "abs_u_test = torch.abs(torch.t(predict_u.reshape(y_len, x_len)) - torch.t(y_batch[0, 2*1830:3*1830].reshape(y_len, x_len)))\n",
    "abs_v_test = torch.abs(torch.t(predict_v.reshape(y_len, x_len)) - torch.t(y_batch[1, 2*1830:3*1830].reshape(y_len, x_len)))\n",
    "abs_G_test = torch.abs(torch.t(predict_G.reshape(y_len, x_len)) - torch.t(y_batch[2, 2*1830:3*1830].reshape(y_len, x_len)))"
   ]
  },
  {
   "cell_type": "code",
   "execution_count": 22,
   "metadata": {},
   "outputs": [
    {
     "data": {
      "text/plain": [
       "2.0"
      ]
     },
     "execution_count": 22,
     "metadata": {},
     "output_type": "execute_result"
    }
   ],
   "source": [
    "max_error = max([abs_u_test.max(), abs_v_test.max(), abs_G_test.max()])\n",
    "max_error = torch.ceil(max_error*2).item()/2\n",
    "max_error"
   ]
  },
  {
   "cell_type": "code",
   "execution_count": 33,
   "metadata": {},
   "outputs": [
    {
     "data": {
      "image/png": "[encoded data removed]",
      "text/plain": [
       "<Figure size 600x600 with 1 Axes>"
      ]
     },
     "metadata": {},
     "output_type": "display_data"
    }
   ],
   "source": [
    "fig, ax = plt.subplots(figsize = (6, 6))\n",
    "ax.pcolor(abs_u_test.cpu().detach().numpy(), vmin = 0, vmax = max_error)\n",
    "ax.set_xticks([])\n",
    "ax.set_yticks([])\n",
    "\n",
    "plt.subplots_adjust(left=0, right=1, top=1, bottom=0)\n",
    "\n",
    "#plt.savefig('Gamma_0_05_Physics_wind_u_predict_ERROR.png')"
   ]
  },
  {
   "cell_type": "code",
   "execution_count": 24,
   "metadata": {},
   "outputs": [
    {
     "data": {
      "image/png": "[encoded data removed]",
      "text/plain": [
       "<Figure size 600x600 with 1 Axes>"
      ]
     },
     "metadata": {},
     "output_type": "display_data"
    }
   ],
   "source": [
    "fig, ax = plt.subplots(figsize = (6, 6))\n",
    "ax.pcolor(abs_v_test.cpu().detach().numpy(), vmin = 0, vmax = max_error)\n",
    "ax.set_xticks([])\n",
    "ax.set_yticks([])\n",
    " \n",
    "plt.subplots_adjust(left=0, right=1, top=1, bottom=0)\n",
    "plt.savefig('Gamma_0_05_Physics_wind_V_predict_ERROR.png')"
   ]
  },
  {
   "cell_type": "code",
   "execution_count": 25,
   "metadata": {},
   "outputs": [
    {
     "data": {
      "image/png": "[encoded data removed]",
      "text/plain": [
       "<Figure size 600x600 with 1 Axes>"
      ]
     },
     "metadata": {},
     "output_type": "display_data"
    }
   ],
   "source": [
    "fig, ax = plt.subplots(figsize = (6, 6))\n",
    "ax.pcolor(abs_G_test.cpu().detach().numpy(), vmin = 0, vmax = max_error)\n",
    "ax.set_xticks([])\n",
    "ax.set_yticks([])\n",
    "\n",
    "plt.subplots_adjust(left=0, right=1, top=1, bottom=0)\n",
    "\n",
    "plt.savefig('Gamma_0_05_Physics_wind_G_predict_ERROR.png')"
   ]
  },
  {
   "cell_type": "code",
   "execution_count": null,
   "metadata": {},
   "outputs": [],
   "source": []
  }
 ],
 "metadata": {
  "kernelspec": {
   "display_name": "Python 3 (ipykernel)",
   "language": "python",
   "name": "python3"
  },
  "language_info": {
   "codemirror_mode": {
    "name": "ipython",
    "version": 3
   },
   "file_extension": ".py",
   "mimetype": "text/x-python",
   "name": "python",
   "nbconvert_exporter": "python",
   "pygments_lexer": "ipython3",
   "version": "3.10.14"
  }
 },
 "nbformat": 4,
 "nbformat_minor": 4
}
